{
  "nbformat": 4,
  "nbformat_minor": 0,
  "metadata": {
    "colab": {
      "provenance": []
    },
    "kernelspec": {
      "name": "python3",
      "display_name": "Python 3"
    },
    "language_info": {
      "name": "python"
    }
  },
  "cells": [
    {
      "cell_type": "markdown",
      "source": [
        "What happens if there is no 'return' line in a function?"
      ],
      "metadata": {
        "id": "D7UjpwPOxRun"
      }
    },
    {
      "cell_type": "code",
      "execution_count": null,
      "metadata": {
        "id": "-flTU2d7xKEy"
      },
      "outputs": [],
      "source": [
        "print(\"it returns none\")"
      ]
    },
    {
      "cell_type": "markdown",
      "source": [
        "What's the difference between printing a value and returning it?"
      ],
      "metadata": {
        "id": "BQz0pwSnyKXV"
      }
    },
    {
      "cell_type": "code",
      "source": [
        "print(\"print:Shows a vlue in the console. Return: Makes a value available to the caller of the function.\")"
      ],
      "metadata": {
        "colab": {
          "base_uri": "https://localhost:8080/"
        },
        "id": "abVQ5HrxxdU7",
        "outputId": "1108a714-9aaf-481a-ba7b-754ff70d0463"
      },
      "execution_count": 1,
      "outputs": [
        {
          "output_type": "stream",
          "name": "stdout",
          "text": [
            "print:Shows a vlue in the console. Return: Makes a value available to the caller of the function.\n"
          ]
        }
      ]
    },
    {
      "cell_type": "code",
      "source": [],
      "metadata": {
        "id": "XWiuCvZOyhkg"
      },
      "execution_count": null,
      "outputs": []
    }
  ]
}