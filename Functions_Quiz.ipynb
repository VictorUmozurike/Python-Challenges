{
  "nbformat": 4,
  "nbformat_minor": 0,
  "metadata": {
    "colab": {
      "provenance": []
    },
    "kernelspec": {
      "name": "python3",
      "display_name": "Python 3"
    },
    "language_info": {
      "name": "python"
    }
  },
  "cells": [
    {
      "cell_type": "markdown",
      "source": [
        "Which keyword is used to create functions in Python?"
      ],
      "metadata": {
        "id": "IJa4C-iQo7-c"
      }
    },
    {
      "cell_type": "code",
      "execution_count": 1,
      "metadata": {
        "colab": {
          "base_uri": "https://localhost:8080/"
        },
        "id": "ArNKne1Xo4Z2",
        "outputId": "3de95a9d-5aaf-4fab-e9c7-6e8799215b4d"
      },
      "outputs": [
        {
          "output_type": "stream",
          "name": "stdout",
          "text": [
            "def\n"
          ]
        }
      ],
      "source": [
        "print(\"def\")"
      ]
    },
    {
      "cell_type": "markdown",
      "source": [
        "Which is NOT an alternative term for values that are passed into a function?"
      ],
      "metadata": {
        "id": "ZpXfHXwivvih"
      }
    },
    {
      "cell_type": "code",
      "source": [
        "print(\"slots\")"
      ],
      "metadata": {
        "colab": {
          "base_uri": "https://localhost:8080/"
        },
        "id": "Yk55VM39v0OF",
        "outputId": "db1d3d2d-eb28-4633-b584-64a72ef6f597"
      },
      "execution_count": 2,
      "outputs": [
        {
          "output_type": "stream",
          "name": "stdout",
          "text": [
            "slots\n"
          ]
        }
      ]
    },
    {
      "cell_type": "markdown",
      "source": [
        "A function must be defined _____ to be called many times with different arguments."
      ],
      "metadata": {
        "id": "RhdCO1dJv8sI"
      }
    },
    {
      "cell_type": "code",
      "source": [
        "print(\"each time\")"
      ],
      "metadata": {
        "colab": {
          "base_uri": "https://localhost:8080/"
        },
        "id": "0McSBLJgv9X2",
        "outputId": "f13354da-bfe7-4590-c245-81ccfac52f82"
      },
      "execution_count": 3,
      "outputs": [
        {
          "output_type": "stream",
          "name": "stdout",
          "text": [
            "each time\n"
          ]
        }
      ]
    }
  ]
}