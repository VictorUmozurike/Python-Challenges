{
  "nbformat": 4,
  "nbformat_minor": 0,
  "metadata": {
    "colab": {
      "provenance": []
    },
    "kernelspec": {
      "name": "python3",
      "display_name": "Python 3"
    },
    "language_info": {
      "name": "python"
    }
  },
  "cells": [
    {
      "cell_type": "markdown",
      "source": [
        "There is a bug in our program! Fix it."
      ],
      "metadata": {
        "id": "OjvXJMag8f8Q"
      }
    },
    {
      "cell_type": "code",
      "source": [
        "def main():\n",
        "  print(\"Fantasy Quest is booting up...\")\n",
        "  print(\"Game is running!\")\n",
        "main()"
      ],
      "metadata": {
        "colab": {
          "base_uri": "https://localhost:8080/"
        },
        "id": "hbGsk-bP8kFD",
        "outputId": "22818fe0-d600-4630-d548-3bee80462bf7"
      },
      "execution_count": 1,
      "outputs": [
        {
          "output_type": "stream",
          "name": "stdout",
          "text": [
            "Fantasy Quest is booting up...\n",
            "Game is running!\n"
          ]
        }
      ]
    }
  ]
}