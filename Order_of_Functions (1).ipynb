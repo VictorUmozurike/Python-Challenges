{
  "nbformat": 4,
  "nbformat_minor": 0,
  "metadata": {
    "colab": {
      "provenance": []
    },
    "kernelspec": {
      "name": "python3",
      "display_name": "Python 3"
    },
    "language_info": {
      "name": "python"
    }
  },
  "cells": [
    {
      "cell_type": "markdown",
      "source": [
        "Functions must be ____ before they can be ____"
      ],
      "metadata": {
        "id": "_ttVa1gUmFj6"
      }
    },
    {
      "cell_type": "code",
      "execution_count": 2,
      "metadata": {
        "colab": {
          "base_uri": "https://localhost:8080/"
        },
        "id": "vTDEIeb8l6qU",
        "outputId": "d3b33254-2be0-4f47-ec75-f916ec9ef714"
      },
      "outputs": [
        {
          "output_type": "stream",
          "name": "stdout",
          "text": [
            "defined, called\n"
          ]
        }
      ],
      "source": [
        "print(\"defined, called\")"
      ]
    },
    {
      "cell_type": "markdown",
      "source": [
        "Functions must be defined in the same order they call one another"
      ],
      "metadata": {
        "id": "RvY4r8TJmsHL"
      }
    },
    {
      "cell_type": "code",
      "source": [
        "print(True)"
      ],
      "metadata": {
        "colab": {
          "base_uri": "https://localhost:8080/"
        },
        "id": "QgYEUT9_mrVX",
        "outputId": "57cb3fc1-4ab3-45ee-e093-3d44c0773503"
      },
      "execution_count": 3,
      "outputs": [
        {
          "output_type": "stream",
          "name": "stdout",
          "text": [
            "True\n"
          ]
        }
      ]
    },
    {
      "cell_type": "markdown",
      "source": [
        "Which is best practice to make sure you don't define functions out of order?"
      ],
      "metadata": {
        "id": "AM71DEvbm1IO"
      }
    },
    {
      "cell_type": "code",
      "source": [
        "print(\"create an entrypoint function called 'main' and call it at the end of the file\")"
      ],
      "metadata": {
        "colab": {
          "base_uri": "https://localhost:8080/"
        },
        "id": "m7NfDSCBm0xQ",
        "outputId": "0169c014-e756-4c55-ee87-ff24d8d212ef"
      },
      "execution_count": 4,
      "outputs": [
        {
          "output_type": "stream",
          "name": "stdout",
          "text": [
            "create an entrypoint function called 'main' and call it at the end of the file\n"
          ]
        }
      ]
    }
  ]
}