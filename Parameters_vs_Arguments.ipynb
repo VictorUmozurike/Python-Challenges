{
  "nbformat": 4,
  "nbformat_minor": 0,
  "metadata": {
    "colab": {
      "provenance": []
    },
    "kernelspec": {
      "name": "python3",
      "display_name": "Python 3"
    },
    "language_info": {
      "name": "python"
    }
  },
  "cells": [
    {
      "cell_type": "markdown",
      "source": [
        "_ are the values that are passed into the function by the caller"
      ],
      "metadata": {
        "id": "HzWB-uI14Hxx"
      }
    },
    {
      "cell_type": "code",
      "execution_count": 1,
      "metadata": {
        "colab": {
          "base_uri": "https://localhost:8080/"
        },
        "id": "Hff-C87a4HAk",
        "outputId": "4990a810-7db3-4d2d-8cd0-174f93d61604"
      },
      "outputs": [
        {
          "output_type": "stream",
          "name": "stdout",
          "text": [
            "parameters\n"
          ]
        }
      ],
      "source": [
        "print(\"parameters\")"
      ]
    },
    {
      "cell_type": "markdown",
      "source": [
        "_ are the inputs specified by the function definition"
      ],
      "metadata": {
        "id": "8jwq6oIZ4SW9"
      }
    },
    {
      "cell_type": "code",
      "source": [
        "print(\"Arguments\")"
      ],
      "metadata": {
        "colab": {
          "base_uri": "https://localhost:8080/"
        },
        "id": "8kkbwhyf4YFa",
        "outputId": "9eafa89a-09a5-4a95-c4b5-7a3d9ec3b020"
      },
      "execution_count": 2,
      "outputs": [
        {
          "output_type": "stream",
          "name": "stdout",
          "text": [
            "Arguments\n"
          ]
        }
      ]
    }
  ]
}